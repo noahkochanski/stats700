{
 "cells": [
  {
   "cell_type": "code",
   "execution_count": 3,
   "id": "6346b626",
   "metadata": {},
   "outputs": [],
   "source": [
    "import numpy as np\n",
    "import os\n",
    "import pickle\n",
    "from pathlib import Path\n",
    "import requests\n",
    "import string\n",
    "import re\n",
    "from datasets import load_dataset\n",
    "\n",
    "def decode(l):\n",
    "    return ''.join([itos[i] for i in l])\n",
    "\n",
    "\n",
    "# NLTK function to generate ngrams\n",
    "import nltk\n",
    "from nltk.util import ngrams"
   ]
  },
  {
   "cell_type": "markdown",
   "id": "b7a48b8b",
   "metadata": {},
   "source": [
    "Questions:\n",
    "\n",
    "- remove the speaker for Shakespeare (currently, no)\n",
    "- remove the title for Wiki text (currently, yes) \n",
    "- are the documents just appended to each other? "
   ]
  },
  {
   "cell_type": "markdown",
   "id": "0597aebc",
   "metadata": {},
   "source": [
    "# HELPER FUNCTIONS"
   ]
  },
  {
   "cell_type": "code",
   "execution_count": 74,
   "id": "25cbc906",
   "metadata": {},
   "outputs": [],
   "source": [
    "def average_branching_factor(text, n):\n",
    "    words = nltk.word_tokenize(text)\n",
    "    n_grams = list(ngrams(words, n))\n",
    "    unique_n_grams = list(set(n_grams))\n",
    "    words = list(set(words))\n",
    "    total_branches = np.zeros(len(words))\n",
    "\n",
    "    for i in range(0, len(words)): \n",
    "        word = words[i]\n",
    "        for gram in unique_n_grams:\n",
    "            if gram[0] == word:\n",
    "                total_branches[i] += 1\n",
    "        \n",
    "    branch_dict = dict(keys = words, values = total_branches)\n",
    "\n",
    "\n",
    "    return np.mean(total_branches)"
   ]
  },
  {
   "cell_type": "code",
   "execution_count": 188,
   "id": "73738ef0",
   "metadata": {},
   "outputs": [],
   "source": [
    "def average_branching_factor_split(text, n):\n",
    "    words = nltk.word_tokenize(text)\n",
    "    n_grams = list(ngrams(words, n))\n",
    "    unique_n_grams = list(set(n_grams))\n",
    "    words = list(set(words))\n",
    "    total_branches = np.zeros(len(words))\n",
    "\n",
    "    for i in range(0, len(words)): \n",
    "        word = words[i]\n",
    "        if word != \"ENDEMAILHERENJJ\": \n",
    "            for gram in unique_n_grams:\n",
    "                if gram[0] == word and gram[1] != \"ENDEMAILHERENJJ\":\n",
    "                    total_branches[i] += 1\n",
    "        \n",
    "        branch_dict = dict(keys = words, values = total_branches)\n",
    "    return sum(total_branches)/(len(words)-1) #don't count stop word as a word"
   ]
  },
  {
   "cell_type": "code",
   "execution_count": 205,
   "id": "bd2828fd",
   "metadata": {},
   "outputs": [],
   "source": [
    "#entropy \n",
    "\n",
    "def get_entropy(text):\n",
    "    words = nltk.word_tokenize(text)\n",
    "    unique_words = list(set(words))\n",
    "    freq_array = np.zeros(len(unique_words))\n",
    "    for i in range(0, len(unique_words)):\n",
    "        word = unique_words[i]\n",
    "        freq_array[i] = words.count(word)\n",
    "    p = freq_array/len(unique_words)\n",
    "    entropy = np.sum(np.multiply(p*-1, np.log2(p))) \n",
    "    return entropy"
   ]
  },
  {
   "cell_type": "code",
   "execution_count": 1,
   "id": "b850d488",
   "metadata": {},
   "outputs": [],
   "source": [
    "def get_entropy_split(text):\n",
    "    words = nltk.word_tokenize(text) #remove split \n",
    "    words = [x for x in words if x != \"ENDEMAILHERENJJ\"] #remove splitting string for this \n",
    "    print(words)\n",
    "    unique_words = list(set(words))\n",
    "    freq_array = np.zeros(len(unique_words))\n",
    "    for i in range(0, len(unique_words)):\n",
    "        word = unique_words[i]\n",
    "        freq_array[i] = words.count(word)\n",
    "    p = freq_array/len(unique_words)\n",
    "    entropy = np.sum(np.multiply(p*-1, np.log2(p))) \n",
    "    return entropy"
   ]
  },
  {
   "cell_type": "markdown",
   "id": "346b5365",
   "metadata": {},
   "source": [
    "# SHAKESPEARE"
   ]
  },
  {
   "cell_type": "code",
   "execution_count": 217,
   "id": "adbda885",
   "metadata": {},
   "outputs": [],
   "source": [
    "with open(\"data/shakespeare/input.txt\", 'r', encoding='utf-8') as f:\n",
    "    data = f.read()"
   ]
  },
  {
   "cell_type": "code",
   "execution_count": 218,
   "id": "40994143",
   "metadata": {},
   "outputs": [],
   "source": [
    "shakespeare = data.translate(str.maketrans(\"\",\"\", string.punctuation)).replace(\"\\n\", \" \").lower()"
   ]
  },
  {
   "cell_type": "code",
   "execution_count": 9,
   "id": "8c6fd1f5",
   "metadata": {},
   "outputs": [
    {
     "name": "stderr",
     "output_type": "stream",
     "text": [
      "[nltk_data] Downloading package punkt to /Users/jaylincl/nltk_data...\n",
      "[nltk_data]   Package punkt is already up-to-date!\n"
     ]
    }
   ],
   "source": [
    "# Pointwise Information Matrix \n",
    "\n",
    "from nltk.collocations import BigramCollocationFinder, BigramAssocMeasures\n",
    "from nltk.tokenize import word_tokenize\n",
    "import nltk\n",
    "nltk.download('punkt')\n",
    "\n",
    "bigram_measures = BigramAssocMeasures()\n",
    "finder = BigramCollocationFinder.from_words(word_tokenize(data2))"
   ]
  },
  {
   "cell_type": "code",
   "execution_count": 10,
   "id": "097bfa8e",
   "metadata": {},
   "outputs": [
    {
     "data": {
      "text/plain": [
       "106835"
      ]
     },
     "execution_count": 10,
     "metadata": {},
     "output_type": "execute_result"
    }
   ],
   "source": [
    "len(finder.score_ngrams(bigram_measures.pmi)) #check vocab size \n",
    "#this only bigram PMI, doesn't give us one for any words that don't occur next to each other "
   ]
  },
  {
   "cell_type": "code",
   "execution_count": 219,
   "id": "b271b2be",
   "metadata": {},
   "outputs": [
    {
     "data": {
      "text/plain": [
       "12847"
      ]
     },
     "execution_count": 219,
     "metadata": {},
     "output_type": "execute_result"
    }
   ],
   "source": [
    "#VOCAB SIZE \n",
    "shakespeare_words = nltk.word_tokenize(shakespeare)\n",
    "len(set(shakespeare_words))"
   ]
  },
  {
   "cell_type": "code",
   "execution_count": 76,
   "id": "3302366c",
   "metadata": {},
   "outputs": [
    {
     "data": {
      "text/plain": [
       "8.315949248851872"
      ]
     },
     "execution_count": 76,
     "metadata": {},
     "output_type": "execute_result"
    }
   ],
   "source": [
    "average_branching_factor(data2, 2)"
   ]
  },
  {
   "cell_type": "code",
   "execution_count": 220,
   "id": "a5e21ffd",
   "metadata": {},
   "outputs": [
    {
     "data": {
      "text/plain": [
       "90.76569383147365"
      ]
     },
     "execution_count": 220,
     "metadata": {},
     "output_type": "execute_result"
    }
   ],
   "source": [
    "shakespeare_entropy = get_entropy(data2)\n",
    "shakespeare_entropy"
   ]
  },
  {
   "cell_type": "markdown",
   "id": "f9752920",
   "metadata": {},
   "source": [
    "# WikiText "
   ]
  },
  {
   "cell_type": "code",
   "execution_count": 4,
   "id": "fade7f7c",
   "metadata": {},
   "outputs": [
    {
     "name": "stderr",
     "output_type": "stream",
     "text": [
      "Found cached dataset parquet (/Users/jaylincl/.cache/huggingface/datasets/iohadrubin___parquet/iohadrubin--wikitext-103-raw-v1-a0b8bc67accf87c3/0.0.0/2a3b91fbd88a2c90d1dbbb32b460cf621d31bd5b05b934492fdef7d8d6f236ec)\n"
     ]
    },
    {
     "data": {
      "application/vnd.jupyter.widget-view+json": {
       "model_id": "7f06cfce25ba41ccac858beee2979f5d",
       "version_major": 2,
       "version_minor": 0
      },
      "text/plain": [
       "  0%|          | 0/3 [00:00<?, ?it/s]"
      ]
     },
     "metadata": {},
     "output_type": "display_data"
    }
   ],
   "source": [
    "wiki = load_dataset(\"iohadrubin/wikitext-103-raw-v1\", num_proc=8)"
   ]
  },
  {
   "cell_type": "code",
   "execution_count": 86,
   "id": "9574687e",
   "metadata": {},
   "outputs": [],
   "source": [
    "len(wiki[\"train\"][\"text\"]) #29567 documents \n",
    "\n",
    "wiki_train = wiki[\"train\"][\"text\"]"
   ]
  },
  {
   "cell_type": "code",
   "execution_count": 5,
   "id": "1dda3165",
   "metadata": {},
   "outputs": [],
   "source": [
    "def process_wiki(text_list):\n",
    "    processed = ''\n",
    "\n",
    "    for i in range(0, len(text_list)):\n",
    "        doc = text_list[i]\n",
    "        #remove title \n",
    "        without_title = re.sub(r'=[^\\n]+\\n', '', doc, count = 1)\n",
    "        #remove foreign characters, numbers, punctuation, line breaks, and go to lowercase\n",
    "        processed += re.sub(r'[^a-zA-z ]', '', without_title).translate(\n",
    "            str.maketrans(\"\",\"\", string.punctuation)).replace(\n",
    "            \"\\n\", \" \").lower()\n",
    "        processed += \" ENDEMAILHERENJJ\"\n",
    "    return processed"
   ]
  },
  {
   "cell_type": "code",
   "execution_count": 6,
   "id": "eca99953",
   "metadata": {},
   "outputs": [],
   "source": [
    "wiki_train_processed = process_wiki(wiki['train']['text'])\n",
    "wiki_val_processed = process_wiki(wiki['validation']['text'])\n",
    "wiki_test_processed = process_wiki(wiki['test']['text'])"
   ]
  },
  {
   "cell_type": "code",
   "execution_count": 7,
   "id": "763a206d",
   "metadata": {},
   "outputs": [],
   "source": [
    "wiki_processed = wiki_train_processed + wiki_val_processed + wiki_test_processed"
   ]
  },
  {
   "cell_type": "code",
   "execution_count": 8,
   "id": "5571d616",
   "metadata": {},
   "outputs": [
    {
     "data": {
      "text/plain": [
       "970404"
      ]
     },
     "execution_count": 8,
     "metadata": {},
     "output_type": "execute_result"
    }
   ],
   "source": [
    "wiki_words = nltk.word_tokenize(wiki_processed)\n",
    "len(set(wiki_words))-1"
   ]
  },
  {
   "cell_type": "code",
   "execution_count": null,
   "id": "57796ded",
   "metadata": {},
   "outputs": [],
   "source": [
    "#RUN OVERNIGHT \n",
    "wiki_abf = average_branching_factor_split(wiki_processed, 2)\n",
    "wiki_abf"
   ]
  },
  {
   "cell_type": "code",
   "execution_count": null,
   "id": "2d6a6b9c",
   "metadata": {},
   "outputs": [],
   "source": [
    "wiki_entropy = get_entropy_split(wiki_processed)\n",
    "wiki_entropy"
   ]
  },
  {
   "cell_type": "markdown",
   "id": "522da0b7",
   "metadata": {},
   "source": [
    "## ENRON "
   ]
  },
  {
   "cell_type": "code",
   "execution_count": 150,
   "id": "6eddb56b",
   "metadata": {},
   "outputs": [
    {
     "data": {
      "application/vnd.jupyter.widget-view+json": {
       "model_id": "f5938abe189444e98f5ccbf01e64a4b3",
       "version_major": 2,
       "version_minor": 0
      },
      "text/plain": [
       "Downloading metadata:   0%|          | 0.00/780 [00:00<?, ?B/s]"
      ]
     },
     "metadata": {},
     "output_type": "display_data"
    },
    {
     "name": "stdout",
     "output_type": "stream",
     "text": [
      "Downloading and preparing dataset None/None (download: 502.27 MiB, generated: 1.06 GiB, post-processed: Unknown size, total: 1.55 GiB) to /Users/jaylincl/.cache/huggingface/datasets/snoop2head___parquet/snoop2head--enron_aeslc_emails-fc92fd888f9d8151/0.0.0/2a3b91fbd88a2c90d1dbbb32b460cf621d31bd5b05b934492fdef7d8d6f236ec...\n"
     ]
    },
    {
     "data": {
      "application/vnd.jupyter.widget-view+json": {
       "model_id": "8f6f2d8b38c44c5bbd41ed7059b19aa6",
       "version_major": 2,
       "version_minor": 0
      },
      "text/plain": [
       "Downloading data files:   0%|          | 0/1 [00:00<?, ?it/s]"
      ]
     },
     "metadata": {},
     "output_type": "display_data"
    },
    {
     "data": {
      "application/vnd.jupyter.widget-view+json": {
       "model_id": "3a6362fd594f4a8fa2595895981ed390",
       "version_major": 2,
       "version_minor": 0
      },
      "text/plain": [
       "Downloading data:   0%|          | 0.00/202M [00:00<?, ?B/s]"
      ]
     },
     "metadata": {},
     "output_type": "display_data"
    },
    {
     "data": {
      "application/vnd.jupyter.widget-view+json": {
       "model_id": "536fcd4d7e81463aa3ce8b16766dfa1c",
       "version_major": 2,
       "version_minor": 0
      },
      "text/plain": [
       "Downloading data:   0%|          | 0.00/177M [00:00<?, ?B/s]"
      ]
     },
     "metadata": {},
     "output_type": "display_data"
    },
    {
     "data": {
      "application/vnd.jupyter.widget-view+json": {
       "model_id": "73ea2691e60b4b9ab0943a4f0ccf87d4",
       "version_major": 2,
       "version_minor": 0
      },
      "text/plain": [
       "Downloading data:   0%|          | 0.00/147M [00:00<?, ?B/s]"
      ]
     },
     "metadata": {},
     "output_type": "display_data"
    },
    {
     "data": {
      "application/vnd.jupyter.widget-view+json": {
       "model_id": "653bb67e7efd404cb714cd9a0ce0dc3b",
       "version_major": 2,
       "version_minor": 0
      },
      "text/plain": [
       "Extracting data files:   0%|          | 0/1 [00:00<?, ?it/s]"
      ]
     },
     "metadata": {},
     "output_type": "display_data"
    },
    {
     "data": {
      "application/vnd.jupyter.widget-view+json": {
       "model_id": "",
       "version_major": 2,
       "version_minor": 0
      },
      "text/plain": [
       "Generating train split:   0%|          | 0/535703 [00:00<?, ? examples/s]"
      ]
     },
     "metadata": {},
     "output_type": "display_data"
    },
    {
     "name": "stdout",
     "output_type": "stream",
     "text": [
      "Dataset parquet downloaded and prepared to /Users/jaylincl/.cache/huggingface/datasets/snoop2head___parquet/snoop2head--enron_aeslc_emails-fc92fd888f9d8151/0.0.0/2a3b91fbd88a2c90d1dbbb32b460cf621d31bd5b05b934492fdef7d8d6f236ec. Subsequent calls will reuse this data.\n"
     ]
    },
    {
     "data": {
      "application/vnd.jupyter.widget-view+json": {
       "model_id": "b9f0c0c50c074e76a4541218358e70a1",
       "version_major": 2,
       "version_minor": 0
      },
      "text/plain": [
       "  0%|          | 0/1 [00:00<?, ?it/s]"
      ]
     },
     "metadata": {},
     "output_type": "display_data"
    }
   ],
   "source": [
    "enron = load_dataset(\"snoop2head/enron_aeslc_emails\", num_proc=8)"
   ]
  },
  {
   "cell_type": "code",
   "execution_count": 171,
   "id": "a4c6161a",
   "metadata": {},
   "outputs": [],
   "source": [
    "def process_enron(text_list):\n",
    "    processed = ''\n",
    "\n",
    "    for i in range(0, len(text_list)):\n",
    "        doc = text_list[i]\n",
    "        #remove title \n",
    "        body = doc.partition(\"Body:\")[2]\n",
    "        #remove foreign characters, numbers, punctuation, line breaks, and go to lowercase\n",
    "        processed += re.sub(r'[^a-zA-z ]', '', body).translate(\n",
    "            str.maketrans(\"\",\"\", string.punctuation)).replace(\n",
    "            \"\\n\", \" \").lower()\n",
    "        processed += \" ENDEMAILHERENJJ\"\n",
    "    return processed"
   ]
  },
  {
   "cell_type": "code",
   "execution_count": 173,
   "id": "9ccdca25",
   "metadata": {},
   "outputs": [],
   "source": [
    "enron_processed = process_enron(enron[\"train\"][\"text\"])"
   ]
  },
  {
   "cell_type": "code",
   "execution_count": 174,
   "id": "7554b961",
   "metadata": {},
   "outputs": [
    {
     "data": {
      "text/plain": [
       "1619263"
      ]
     },
     "execution_count": 174,
     "metadata": {},
     "output_type": "execute_result"
    }
   ],
   "source": [
    "enron_words = nltk.word_tokenize(enron_processed)\n",
    "len(set(enron_words))-1"
   ]
  },
  {
   "cell_type": "code",
   "execution_count": null,
   "id": "c15e364e",
   "metadata": {},
   "outputs": [],
   "source": [
    "#RUN OVERNIGHT\n",
    "enron_abf = average_branching_factor_split(enron_processed, 2)\n",
    "enron_abf"
   ]
  },
  {
   "cell_type": "code",
   "execution_count": null,
   "id": "c3618eb7",
   "metadata": {},
   "outputs": [],
   "source": [
    "enron_entropy = get_entropy_split(enron_processed)\n",
    "enron_entropy"
   ]
  },
  {
   "cell_type": "code",
   "execution_count": null,
   "id": "cb203443",
   "metadata": {},
   "outputs": [],
   "source": []
  }
 ],
 "metadata": {
  "kernelspec": {
   "display_name": "Python 3 (ipykernel)",
   "language": "python",
   "name": "python3"
  },
  "language_info": {
   "codemirror_mode": {
    "name": "ipython",
    "version": 3
   },
   "file_extension": ".py",
   "mimetype": "text/x-python",
   "name": "python",
   "nbconvert_exporter": "python",
   "pygments_lexer": "ipython3",
   "version": "3.11.5"
  }
 },
 "nbformat": 4,
 "nbformat_minor": 5
}
