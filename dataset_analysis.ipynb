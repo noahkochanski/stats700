{
 "cells": [
  {
   "cell_type": "code",
   "execution_count": 1,
   "id": "9eaedde7",
   "metadata": {},
   "outputs": [
    {
     "data": {
      "text/plain": [
       "'1.26.4'"
      ]
     },
     "execution_count": 1,
     "metadata": {},
     "output_type": "execute_result"
    }
   ],
   "source": [
    "import numpy as np\n",
    "np.version.version"
   ]
  },
  {
   "cell_type": "code",
   "execution_count": 1,
   "id": "6346b626",
   "metadata": {},
   "outputs": [],
   "source": [
    "import numpy as np\n",
    "import os\n",
    "import pickle\n",
    "from pathlib import Path\n",
    "import requests\n",
    "import string\n",
    "import re\n",
    "from datasets import load_dataset\n",
    "\n",
    "def decode(l):\n",
    "    return ''.join([itos[i] for i in l])\n",
    "\n",
    "\n",
    "# NLTK function to generate ngrams\n",
    "import nltk\n",
    "from nltk.util import ngrams\n",
    "from nltk.probability import FreqDist"
   ]
  },
  {
   "cell_type": "markdown",
   "id": "0597aebc",
   "metadata": {},
   "source": [
    "# HELPER FUNCTIONS"
   ]
  },
  {
   "cell_type": "code",
   "execution_count": 61,
   "id": "b850d488",
   "metadata": {},
   "outputs": [],
   "source": [
    "def get_entropy_split(words): \n",
    "    freq_dict = FreqDist(word.lower() for word in words)\n",
    "    freq = np.array(list(freq_dict.values()))\n",
    "    p = freq/sum(freq)\n",
    "    entropy = np.sum(np.multiply(p*-1, np.log2(p))) \n",
    "    return entropy\n",
    "    \n",
    "#     freq_array = np.zeros(len(unique_words))\n",
    "#     for i in range(0, len(unique_words)):\n",
    "#         if i % 1000 == 0:\n",
    "#             print(i)\n",
    "#         word = unique_words[i]\n",
    "#         freq_array[i] = words.count(word)\n",
    "#     p = freq_array/len(unique_words)\n",
    "#     entropy = np.sum(np.multiply(p*-1, np.log2(p))) \n",
    "#     return entropy"
   ]
  },
  {
   "cell_type": "markdown",
   "id": "346b5365",
   "metadata": {},
   "source": [
    "# SHAKESPEARE"
   ]
  },
  {
   "cell_type": "code",
   "execution_count": 66,
   "id": "adbda885",
   "metadata": {},
   "outputs": [],
   "source": [
    "with open(\"data/shakespeare/input.txt\", 'r', encoding='utf-8') as f:\n",
    "    data = f.read()"
   ]
  },
  {
   "cell_type": "code",
   "execution_count": 67,
   "id": "40994143",
   "metadata": {},
   "outputs": [],
   "source": [
    "shakespeare = data.translate(str.maketrans(\"\",\"\", string.punctuation)).replace(\"\\n\", \" \").lower()"
   ]
  },
  {
   "cell_type": "code",
   "execution_count": 9,
   "id": "8c6fd1f5",
   "metadata": {},
   "outputs": [
    {
     "name": "stderr",
     "output_type": "stream",
     "text": [
      "[nltk_data] Downloading package punkt to /Users/jaylincl/nltk_data...\n",
      "[nltk_data]   Package punkt is already up-to-date!\n"
     ]
    }
   ],
   "source": [
    "# Pointwise Information Matrix \n",
    "\n",
    "from nltk.collocations import BigramCollocationFinder, BigramAssocMeasures\n",
    "from nltk.tokenize import word_tokenize\n",
    "import nltk\n",
    "nltk.download('punkt')\n",
    "\n",
    "bigram_measures = BigramAssocMeasures()\n",
    "finder = BigramCollocationFinder.from_words(word_tokenize(data2))"
   ]
  },
  {
   "cell_type": "code",
   "execution_count": 10,
   "id": "097bfa8e",
   "metadata": {},
   "outputs": [
    {
     "data": {
      "text/plain": [
       "106835"
      ]
     },
     "execution_count": 10,
     "metadata": {},
     "output_type": "execute_result"
    }
   ],
   "source": [
    "len(finder.score_ngrams(bigram_measures.pmi)) #check vocab size \n",
    "#this only bigram PMI, doesn't give us one for any words that don't occur next to each other "
   ]
  },
  {
   "cell_type": "code",
   "execution_count": 68,
   "id": "b271b2be",
   "metadata": {},
   "outputs": [
    {
     "data": {
      "text/plain": [
       "12847"
      ]
     },
     "execution_count": 68,
     "metadata": {},
     "output_type": "execute_result"
    }
   ],
   "source": [
    "#VOCAB SIZE \n",
    "shakespeare_words = nltk.word_tokenize(shakespeare)\n",
    "len(set(shakespeare_words))"
   ]
  },
  {
   "cell_type": "code",
   "execution_count": 72,
   "id": "bcb698b0",
   "metadata": {},
   "outputs": [
    {
     "data": {
      "text/plain": [
       "8.315949248851872"
      ]
     },
     "execution_count": 72,
     "metadata": {},
     "output_type": "execute_result"
    }
   ],
   "source": [
    "average_branching_factor(shakespeare, 2)"
   ]
  },
  {
   "cell_type": "code",
   "execution_count": 69,
   "id": "a5e21ffd",
   "metadata": {},
   "outputs": [
    {
     "data": {
      "text/plain": [
       "9.729605221164615"
      ]
     },
     "execution_count": 69,
     "metadata": {},
     "output_type": "execute_result"
    }
   ],
   "source": [
    "shakespeare_entropy = get_entropy(shakespeare)\n",
    "shakespeare_entropy"
   ]
  },
  {
   "cell_type": "markdown",
   "id": "f9752920",
   "metadata": {},
   "source": [
    "# WikiText "
   ]
  },
  {
   "cell_type": "code",
   "execution_count": 15,
   "id": "fade7f7c",
   "metadata": {},
   "outputs": [
    {
     "data": {
      "application/vnd.jupyter.widget-view+json": {
       "model_id": "e061dbd1f0224aa68809516ede0fcdcf",
       "version_major": 2,
       "version_minor": 0
      },
      "text/plain": [
       "dataset_infos.json:   0%|          | 0.00/802 [00:00<?, ?B/s]"
      ]
     },
     "metadata": {},
     "output_type": "display_data"
    },
    {
     "name": "stderr",
     "output_type": "stream",
     "text": [
      "Setting num_proc from 8 to 2 for the train split as it only contains 2 shards.\n"
     ]
    },
    {
     "data": {
      "application/vnd.jupyter.widget-view+json": {
       "model_id": "dba26897d343442f8ef5cb7e65046ddc",
       "version_major": 2,
       "version_minor": 0
      },
      "text/plain": [
       "Generating train split:   0%|          | 0/29567 [00:00<?, ? examples/s]"
      ]
     },
     "metadata": {},
     "output_type": "display_data"
    },
    {
     "name": "stderr",
     "output_type": "stream",
     "text": [
      "Setting num_proc from 8 back to 1 for the validation split to disable multiprocessing as it only contains one shard.\n"
     ]
    },
    {
     "data": {
      "application/vnd.jupyter.widget-view+json": {
       "model_id": "0182d73803a2406ca83f4c6d8596a24c",
       "version_major": 2,
       "version_minor": 0
      },
      "text/plain": [
       "Generating validation split:   0%|          | 0/60 [00:00<?, ? examples/s]"
      ]
     },
     "metadata": {},
     "output_type": "display_data"
    },
    {
     "name": "stderr",
     "output_type": "stream",
     "text": [
      "Setting num_proc from 8 back to 1 for the test split to disable multiprocessing as it only contains one shard.\n"
     ]
    },
    {
     "data": {
      "application/vnd.jupyter.widget-view+json": {
       "model_id": "190d0768c1e8429485ce9c78939d9ec7",
       "version_major": 2,
       "version_minor": 0
      },
      "text/plain": [
       "Generating test split:   0%|          | 0/62 [00:00<?, ? examples/s]"
      ]
     },
     "metadata": {},
     "output_type": "display_data"
    }
   ],
   "source": [
    "wiki = load_dataset(\"iohadrubin/wikitext-103-raw-v1\", num_proc=8)"
   ]
  },
  {
   "cell_type": "code",
   "execution_count": 135,
   "id": "1dda3165",
   "metadata": {},
   "outputs": [],
   "source": [
    "def process_wiki(text_list):\n",
    "    processed = ''\n",
    "\n",
    "    for i in range(0, len(text_list)):\n",
    "        doc = text_list[i]\n",
    "        #remove title \n",
    "        without_title = re.sub(r'=[^\\n]+\\n', ' ', doc, count = 1)\n",
    "        #remove foreign characters, numbers, punctuation, line breaks, and go to lowercase\n",
    "        processed += re.sub(r'[^a-zA-z ]', ' ', without_title).translate(\n",
    "            str.maketrans(\"\",\"\", string.punctuation)).replace(\n",
    "            \"\\n\", \" \").lower()\n",
    "        processed += \" \"\n",
    "    return processed"
   ]
  },
  {
   "cell_type": "code",
   "execution_count": 131,
   "id": "eca99953",
   "metadata": {},
   "outputs": [],
   "source": [
    "wiki_train_processed = process_wiki(wiki['train']['text'])\n",
    "wiki_val_processed = process_wiki(wiki['validation']['text'])\n",
    "wiki_test_processed = process_wiki(wiki['test']['text'])"
   ]
  },
  {
   "cell_type": "code",
   "execution_count": 136,
   "id": "763a206d",
   "metadata": {},
   "outputs": [],
   "source": [
    "wiki_processed = wiki_train_processed + wiki_val_processed + wiki_test_processed"
   ]
  },
  {
   "cell_type": "code",
   "execution_count": 137,
   "id": "5571d616",
   "metadata": {},
   "outputs": [
    {
     "data": {
      "text/plain": [
       "471951"
      ]
     },
     "execution_count": 137,
     "metadata": {},
     "output_type": "execute_result"
    }
   ],
   "source": [
    "wiki_words = nltk.word_tokenize(wiki_processed)\n",
    "len(set(wiki_words))"
   ]
  },
  {
   "cell_type": "code",
   "execution_count": 151,
   "id": "2d6a6b9c",
   "metadata": {},
   "outputs": [
    {
     "data": {
      "text/plain": [
       "10.99309750946845"
      ]
     },
     "execution_count": 151,
     "metadata": {},
     "output_type": "execute_result"
    }
   ],
   "source": [
    "wiki_entropy = get_entropy_split(wiki_words)\n",
    "wiki_entropy"
   ]
  },
  {
   "cell_type": "code",
   "execution_count": 20,
   "id": "77f70547",
   "metadata": {},
   "outputs": [],
   "source": [
    "def process_wiki_doc(text_list):\n",
    "    processed_list = [None] * len(text_list)\n",
    "\n",
    "    for i in range(0, len(text_list)):\n",
    "        doc = text_list[i]\n",
    "        #remove title \n",
    "        without_title = re.sub(r'=[^\\n]+\\n', ' ', doc, count = 1)\n",
    "        #remove foreign characters, numbers, punctuation, line breaks, and go to lowercase\n",
    "        processed_list[i] =  re.sub(r'[^a-zA-z ]', ' ', without_title).translate(\n",
    "            str.maketrans(\"\",\"\", string.punctuation)).replace(\n",
    "            \"\\n\", \" \").lower()\n",
    "    return processed_list"
   ]
  },
  {
   "cell_type": "code",
   "execution_count": 114,
   "id": "a05b3405",
   "metadata": {},
   "outputs": [],
   "source": [
    "def avg_branching_factor(text, prev_word_dic={}, find_count=False):\n",
    "    words = nltk.word_tokenize(text)\n",
    "    word_dic = prev_word_dic\n",
    "    for i,word in enumerate(words):\n",
    "        if len(words) == i+1:\n",
    "            continue\n",
    "        if word_dic.get(word) == None:\n",
    "            word_dic[word] = set([words[i+1]])\n",
    "        else:\n",
    "            w_set = word_dic[word]\n",
    "            w_set.add(words[i+1])\n",
    "    count = 0\n",
    "    if find_count: \n",
    "        for k,v in word_dic.items():\n",
    "            count += len(v)\n",
    "        return count/len(word_dic)\n",
    "    return word_dic"
   ]
  },
  {
   "cell_type": "code",
   "execution_count": 22,
   "id": "6daaf59e",
   "metadata": {},
   "outputs": [],
   "source": [
    "wiki_processed_doc_train = process_wiki_doc(wiki['train']['text'])\n",
    "wiki_processed_doc_validation = process_wiki_doc(wiki['validation']['text'])\n",
    "wiki_processed_doc_test = process_wiki_doc(wiki['test']['text'])"
   ]
  },
  {
   "cell_type": "code",
   "execution_count": 23,
   "id": "c68409aa",
   "metadata": {},
   "outputs": [],
   "source": [
    "wiki_processed_doc = wiki_processed_doc_train + wiki_processed_doc_validation + wiki_processed_doc_test"
   ]
  },
  {
   "cell_type": "code",
   "execution_count": 117,
   "id": "57796ded",
   "metadata": {},
   "outputs": [],
   "source": [
    "for i in range(0, len(wiki_processed_doc)): \n",
    "    if i == 0:\n",
    "        prev_dic = avg_branching_factor(wiki_processed_doc[i], prev_word_dic = {})\n",
    "    elif i < len(wiki_processed_doc) - 1:\n",
    "        prev_dic_temp = avg_branching_factor(wiki_processed_doc[i], prev_word_dic = prev_dic)\n",
    "        prev_dic = prev_dic_temp\n",
    "    else:\n",
    "        final_dic2 = avg_branching_factor(wiki_processed_doc[i], prev_word_dic = prev_dic)"
   ]
  },
  {
   "cell_type": "code",
   "execution_count": 99,
   "id": "82367387",
   "metadata": {},
   "outputs": [
    {
     "data": {
      "text/plain": [
       "26.741648895352043"
      ]
     },
     "execution_count": 99,
     "metadata": {},
     "output_type": "execute_result"
    }
   ],
   "source": [
    "count = 0\n",
    "for k,v in final_dic2.items():\n",
    "    count += len(v)\n",
    "result_wiki = count/len(final_dic2)\n",
    "result_wiki"
   ]
  },
  {
   "cell_type": "code",
   "execution_count": 118,
   "id": "2f911410",
   "metadata": {},
   "outputs": [
    {
     "data": {
      "text/plain": [
       "471734"
      ]
     },
     "execution_count": 118,
     "metadata": {},
     "output_type": "execute_result"
    }
   ],
   "source": [
    "len(final_dic2.items()) "
   ]
  },
  {
   "cell_type": "code",
   "execution_count": 138,
   "id": "6bca9dde",
   "metadata": {},
   "outputs": [],
   "source": [
    "#figure out which words are missing\n",
    "\n",
    "mykeys = final_dic2.keys()\n",
    "mywords = set(wiki_words)\n",
    "\n",
    "missing_words = list()\n",
    "\n",
    "for word in mywords:\n",
    "    if word not in final_dic:\n",
    "        missing_words.append(word)"
   ]
  },
  {
   "cell_type": "code",
   "execution_count": 139,
   "id": "c1bb7fbb",
   "metadata": {},
   "outputs": [
    {
     "data": {
      "text/plain": [
       "217"
      ]
     },
     "execution_count": 139,
     "metadata": {},
     "output_type": "execute_result"
    }
   ],
   "source": [
    "len(missing_words) #should be 961067 - 471734\n",
    "#these are the words that are at the end of the documents and don't show up anywhere else "
   ]
  },
  {
   "cell_type": "markdown",
   "id": "522da0b7",
   "metadata": {},
   "source": [
    "## ENRON "
   ]
  },
  {
   "cell_type": "code",
   "execution_count": 2,
   "id": "6eddb56b",
   "metadata": {},
   "outputs": [],
   "source": [
    "enron = load_dataset(\"snoop2head/enron_aeslc_emails\", num_proc=8)"
   ]
  },
  {
   "cell_type": "code",
   "execution_count": 189,
   "id": "a4c6161a",
   "metadata": {},
   "outputs": [],
   "source": [
    "def process_enron(text_list):\n",
    "    processed = ''\n",
    "\n",
    "    for i in range(0, len(text_list)):\n",
    "        doc = text_list[i]\n",
    "        #remove title \n",
    "        body = doc.partition(\"Body:\")[2]\n",
    "        #remove foreign characters, numbers, punctuation, line breaks, and go to lowercase\n",
    "        processed += re.sub(r'[^a-zA-z ]', '', body).translate(\n",
    "            str.maketrans(\"\",\"\", string.punctuation)).replace(\n",
    "            \"\\n\", \" \").lower()\n",
    "    return processed"
   ]
  },
  {
   "cell_type": "code",
   "execution_count": 186,
   "id": "47d59e73",
   "metadata": {},
   "outputs": [],
   "source": [
    "def process_enron_doc(text_list):\n",
    "    processed_list = [None] * len(text_list)\n",
    "\n",
    "    for i in range(0, len(text_list)):\n",
    "        doc = text_list[i]\n",
    "        #remove title \n",
    "        body = doc.partition(\"Body:\")[2]\n",
    "        #remove foreign characters, numbers, punctuation, line breaks, and go to lowercase\n",
    "        processed_list[i] = re.sub(r'[^a-zA-z ]', '', body).translate(\n",
    "            str.maketrans(\"\",\"\", string.punctuation)).replace(\n",
    "            \"\\n\", \" \").lower()\n",
    "    return processed_list"
   ]
  },
  {
   "cell_type": "code",
   "execution_count": 4,
   "id": "b668c329",
   "metadata": {},
   "outputs": [],
   "source": [
    "delimiter = \" \"\n",
    "enron_string = delimiter.join(enron[\"train\"][\"text\"])"
   ]
  },
  {
   "cell_type": "code",
   "execution_count": 9,
   "id": "278b4d95",
   "metadata": {},
   "outputs": [],
   "source": [
    "def process_enron2(text_list):\n",
    "    processed = ''\n",
    "\n",
    "    for i in range(0, len(text_list)):\n",
    "        doc = text_list[i]\n",
    "        #remove title \n",
    "        body = doc.partition(\"Body:\")[2]\n",
    "        #remove foreign characters, numbers, punctuation, line breaks, and go to lowercase\n",
    "        processed += re.sub(r'[^a-zA-z ]', ' ', body).translate(\n",
    "            str.maketrans(\"\",\"\", string.punctuation)).replace(\n",
    "            \"\\n\", \" \").lower()\n",
    "    return processed"
   ]
  },
  {
   "cell_type": "code",
   "execution_count": 10,
   "id": "6c73e27c",
   "metadata": {},
   "outputs": [],
   "source": [
    "enron_processed2 = process_enron2(enron[\"train\"][\"text\"])"
   ]
  },
  {
   "cell_type": "code",
   "execution_count": 11,
   "id": "8a65c46e",
   "metadata": {},
   "outputs": [
    {
     "data": {
      "text/plain": [
       "'  here is our forecast    traveling to have a business meeting takes the fun out of the trip   especially if you have to prepare a presentation   i would suggest holding the business plan meetings here then take a trip without any formal business meetings   i would even try and get some honest opinions on whether a trip is even desired or necessary  as far as the business meetings  i think it would be more productive to try and stimulate discussions across the different groups about what is working and what is not   too often the presenter speaks and the others are quiet just waiting for their turn    the meetings might be better if held in a round table discussion format    my suggestion for where to go is austin   play golf and rent a ski boat and jet ski s   flying somewhere takes too much time   test successful   way to go     randy   can you send me a schedule of the salary and level of everyone in the  scheduling group   plus your thoughts on any changes that need to be made     '"
      ]
     },
     "execution_count": 11,
     "metadata": {},
     "output_type": "execute_result"
    }
   ],
   "source": [
    "enron_processed2[0:1000]"
   ]
  },
  {
   "cell_type": "code",
   "execution_count": 13,
   "id": "97aa6e9a",
   "metadata": {},
   "outputs": [
    {
     "data": {
      "text/plain": [
       "597200"
      ]
     },
     "execution_count": 13,
     "metadata": {},
     "output_type": "execute_result"
    }
   ],
   "source": [
    "enron_words2 = nltk.word_tokenize(enron_processed2)\n",
    "enron_unique2 = set(enron_words2)\n",
    "len(enron_unique2)"
   ]
  },
  {
   "cell_type": "code",
   "execution_count": 62,
   "id": "2bacfb05",
   "metadata": {},
   "outputs": [
    {
     "data": {
      "text/plain": [
       "10.96357680299977"
      ]
     },
     "execution_count": 62,
     "metadata": {},
     "output_type": "execute_result"
    }
   ],
   "source": [
    "enron_entropy = get_entropy_split(enron_words2)\n",
    "enron_entropy"
   ]
  },
  {
   "cell_type": "code",
   "execution_count": 30,
   "id": "8d188284",
   "metadata": {},
   "outputs": [],
   "source": [
    "enron_freq_dict = FreqDist(word.lower() for word in enron_words2)"
   ]
  },
  {
   "cell_type": "code",
   "execution_count": 59,
   "id": "13ddf0d7",
   "metadata": {},
   "outputs": [
    {
     "data": {
      "text/plain": [
       "597200"
      ]
     },
     "execution_count": 59,
     "metadata": {},
     "output_type": "execute_result"
    }
   ],
   "source": [
    "len(list(enron_freq_dict.values())) #exactly right "
   ]
  },
  {
   "cell_type": "code",
   "execution_count": 60,
   "id": "e48a26d8",
   "metadata": {},
   "outputs": [
    {
     "data": {
      "text/plain": [
       "array([ 113969, 1243849,  303174,    8021,    3369, 4106550,  713633,\n",
       "       2165311,  151436,  115060])"
      ]
     },
     "execution_count": 60,
     "metadata": {},
     "output_type": "execute_result"
    }
   ],
   "source": [
    "np.array(list(enron_freq_dict.values()))[0:10]"
   ]
  },
  {
   "cell_type": "code",
   "execution_count": 54,
   "id": "92eea986",
   "metadata": {},
   "outputs": [
    {
     "data": {
      "text/plain": [
       "(array([23832.,  2822.,  1302.,   799.,   498.,   378.,   282.,   206.,\n",
       "          215.,   177.]),\n",
       " array([  100.,  1090.,  2080.,  3070.,  4060.,  5050.,  6040.,  7030.,\n",
       "         8020.,  9010., 10000.]),\n",
       " <BarContainer object of 10 artists>)"
      ]
     },
     "execution_count": 54,
     "metadata": {},
     "output_type": "execute_result"
    },
    {
     "data": {
      "image/png": "[encoded data removed]",
      "text/plain": [
       "<Figure size 640x480 with 1 Axes>"
      ]
     },
     "metadata": {},
     "output_type": "display_data"
    }
   ],
   "source": [
    "import matplotlib.pyplot as plt\n",
    "plt.hist(np.array(list(enron_freq_dict.values())), range = (100, 10000))"
   ]
  },
  {
   "cell_type": "code",
   "execution_count": 57,
   "id": "799d4cbf",
   "metadata": {},
   "outputs": [
    {
     "data": {
      "text/plain": [
       "['the', 'to', 'enron', 'and', 'com', 'of', 'a', 'in', 'for', 'on']"
      ]
     },
     "execution_count": 57,
     "metadata": {},
     "output_type": "execute_result"
    }
   ],
   "source": [
    "#find words with highest frequency \n",
    "import heapq\n",
    "\n",
    "heapq.nlargest(10, enron_freq_dict, key=enron_freq_dict.get)"
   ]
  },
  {
   "cell_type": "markdown",
   "id": "df464b80",
   "metadata": {},
   "source": [
    "# OLD STUFF"
   ]
  },
  {
   "cell_type": "code",
   "execution_count": null,
   "id": "495efb19",
   "metadata": {},
   "outputs": [],
   "source": [
    "#need to rerun average branching factor "
   ]
  },
  {
   "cell_type": "code",
   "execution_count": 190,
   "id": "9ccdca25",
   "metadata": {},
   "outputs": [],
   "source": [
    "enron_processed = process_enron(enron[\"train\"][\"text\"])"
   ]
  },
  {
   "cell_type": "code",
   "execution_count": 193,
   "id": "7650faa0",
   "metadata": {},
   "outputs": [
    {
     "data": {
      "text/plain": [
       "' here is our forecast  traveling to have a business meeting takes the fun out of the trip  especially if you have to prepare a presentation  i would suggest holding the business plan meetings here then take a trip without any formal business meetings  i would even try and get some honest opinions on whether a trip is even desired or necessaryas far as the business meetings i think it would be more productive to try and stimulate discussions across the different groups about what is working and what is not  too often the presenter speaks and the others are quiet just waiting for their turn   the meetings might be better if held in a round table discussion format  my suggestion for where to go is austin  play golf and rent a ski boat and jet skis  flying somewhere takes too much time test successful  way to go randy can you send me a schedule of the salary and level of everyone in the scheduling group  plus your thoughts on any changes that need to be made  patti s for examplephillip let'"
      ]
     },
     "execution_count": 193,
     "metadata": {},
     "output_type": "execute_result"
    }
   ],
   "source": [
    "enron_processed[0:1000]"
   ]
  },
  {
   "cell_type": "code",
   "execution_count": 191,
   "id": "7554b961",
   "metadata": {},
   "outputs": [
    {
     "data": {
      "text/plain": [
       "1619263"
      ]
     },
     "execution_count": 191,
     "metadata": {},
     "output_type": "execute_result"
    }
   ],
   "source": [
    "enron_words = nltk.word_tokenize(enron_processed)\n",
    "len(set(enron_words))"
   ]
  },
  {
   "cell_type": "code",
   "execution_count": 197,
   "id": "8f566f6d",
   "metadata": {},
   "outputs": [
    {
     "data": {
      "text/plain": [
       "67"
      ]
     },
     "execution_count": 197,
     "metadata": {},
     "output_type": "execute_result"
    }
   ],
   "source": [
    "len(set(enron_words[0:100]))"
   ]
  },
  {
   "cell_type": "code",
   "execution_count": null,
   "id": "c15e364e",
   "metadata": {},
   "outputs": [],
   "source": [
    "#RUN OVERNIGHT\n",
    "enron_abf = average_branching_factor_split(enron_processed, 2)\n",
    "enron_abf"
   ]
  },
  {
   "cell_type": "code",
   "execution_count": 70,
   "id": "c3618eb7",
   "metadata": {},
   "outputs": [
    {
     "data": {
      "text/plain": [
       "409.1528585819451"
      ]
     },
     "execution_count": 70,
     "metadata": {},
     "output_type": "execute_result"
    }
   ],
   "source": [
    "enron_entropy = get_entropy_split(enron_words)\n",
    "enron_entropy"
   ]
  },
  {
   "cell_type": "code",
   "execution_count": 187,
   "id": "d98a2b1c",
   "metadata": {},
   "outputs": [],
   "source": [
    "enron_processed_doc = process_enron_doc(enron['train']['text'])"
   ]
  },
  {
   "cell_type": "code",
   "execution_count": 188,
   "id": "a9f4824f",
   "metadata": {},
   "outputs": [
    {
     "data": {
      "text/plain": [
       "8.811039325233148"
      ]
     },
     "execution_count": 188,
     "metadata": {},
     "output_type": "execute_result"
    }
   ],
   "source": [
    "for i in range(0, len(enron_processed_doc)): \n",
    "    if i == 0:\n",
    "        prev_dic = avg_branching_factor(enron_processed_doc[i])\n",
    "    elif i < len(wiki_processed_doc) - 1:\n",
    "        prev_dic = avg_branching_factor(enron_processed_doc[i], prev_word_dic = prev_dic)\n",
    "    else:\n",
    "        result_enron = avg_branching_factor(enron_processed_doc[i], prev_word_dic = prev_dic, find_count = True)\n",
    "result_enron"
   ]
  },
  {
   "cell_type": "code",
   "execution_count": null,
   "id": "8f8630bf",
   "metadata": {},
   "outputs": [],
   "source": [
    "# SPACE CELL"
   ]
  },
  {
   "cell_type": "code",
   "execution_count": 74,
   "id": "7650ea3d",
   "metadata": {},
   "outputs": [
    {
     "data": {
      "text/plain": [
       "['senj',\n",
       " 'no',\n",
       " 'valkyria',\n",
       " 'unrecorded',\n",
       " 'chronicles',\n",
       " 'japanese',\n",
       " 'lit',\n",
       " 'valkyria',\n",
       " 'of',\n",
       " 'the',\n",
       " 'battlefield',\n",
       " 'commonly',\n",
       " 'referred',\n",
       " 'to',\n",
       " 'as',\n",
       " 'valkyria',\n",
       " 'chronicles',\n",
       " 'iii',\n",
       " 'outside',\n",
       " 'japan',\n",
       " 'is',\n",
       " 'a',\n",
       " 'tactical',\n",
       " 'roleplaying',\n",
       " 'video',\n",
       " 'game',\n",
       " 'developed',\n",
       " 'by',\n",
       " 'sega',\n",
       " 'and',\n",
       " 'mediavision',\n",
       " 'for',\n",
       " 'the',\n",
       " 'playstation',\n",
       " 'portable',\n",
       " 'released',\n",
       " 'in',\n",
       " 'january',\n",
       " 'in',\n",
       " 'japan',\n",
       " 'it',\n",
       " 'is',\n",
       " 'the',\n",
       " 'third',\n",
       " 'game',\n",
       " 'in',\n",
       " 'the',\n",
       " 'valkyria',\n",
       " 'series',\n",
       " 'employing',\n",
       " 'the',\n",
       " 'same',\n",
       " 'fusion',\n",
       " 'of',\n",
       " 'tactical',\n",
       " 'and',\n",
       " 'realtime',\n",
       " 'gameplay',\n",
       " 'as',\n",
       " 'its',\n",
       " 'predecessors',\n",
       " 'the',\n",
       " 'story',\n",
       " 'runs',\n",
       " 'parallel',\n",
       " 'to',\n",
       " 'the',\n",
       " 'first',\n",
       " 'game',\n",
       " 'and',\n",
       " 'follows',\n",
       " 'the',\n",
       " 'nameless',\n",
       " 'a',\n",
       " 'penal',\n",
       " 'military',\n",
       " 'unit',\n",
       " 'serving',\n",
       " 'the',\n",
       " 'nation',\n",
       " 'of',\n",
       " 'gallia',\n",
       " 'during',\n",
       " 'the',\n",
       " 'second',\n",
       " 'europan',\n",
       " 'war',\n",
       " 'who',\n",
       " 'perform',\n",
       " 'secret',\n",
       " 'black',\n",
       " 'operations',\n",
       " 'and',\n",
       " 'are',\n",
       " 'pitted',\n",
       " 'against',\n",
       " 'the',\n",
       " 'imperial',\n",
       " 'unit',\n",
       " 'calamaty']"
      ]
     },
     "execution_count": 74,
     "metadata": {},
     "output_type": "execute_result"
    }
   ],
   "source": [
    "wiki_words[0:100]"
   ]
  },
  {
   "cell_type": "code",
   "execution_count": 139,
   "id": "cb203443",
   "metadata": {},
   "outputs": [],
   "source": [
    "def average_branching_factor2(words):\n",
    "    #create a dictionary of words where keys are sets of words that follow them \n",
    "    \n",
    "    for i in range(0, len(words)-1): \n",
    "        print(words[i])\n",
    "        if words[i] in d:\n",
    "            old_value = d[words[i]]\n",
    "            if words[i+1] not in old_value:\n",
    "                d[words[i]] = old_value.append(words[i+1])\n",
    "        else:\n",
    "            d[words[i]] = list(words[i+1])\n",
    "    return d"
   ]
  },
  {
   "cell_type": "code",
   "execution_count": 142,
   "id": "cfc3a8a1",
   "metadata": {},
   "outputs": [
    {
     "data": {
      "text/plain": [
       "2"
      ]
     },
     "execution_count": 142,
     "metadata": {},
     "output_type": "execute_result"
    }
   ],
   "source": [
    "wiki_words.index(\"valkyria\")\n"
   ]
  },
  {
   "cell_type": "code",
   "execution_count": 140,
   "id": "9e78c381",
   "metadata": {},
   "outputs": [
    {
     "name": "stdout",
     "output_type": "stream",
     "text": [
      "senj\n",
      "no\n",
      "valkyria\n",
      "unrecorded\n",
      "chronicles\n",
      "japanese\n",
      "lit\n",
      "valkyria\n",
      "of\n",
      "the\n",
      "battlefield\n",
      "commonly\n",
      "referred\n",
      "to\n",
      "as\n",
      "valkyria\n"
     ]
    },
    {
     "ename": "TypeError",
     "evalue": "argument of type 'NoneType' is not iterable",
     "output_type": "error",
     "traceback": [
      "\u001b[0;31m---------------------------------------------------------------------------\u001b[0m",
      "\u001b[0;31mTypeError\u001b[0m                                 Traceback (most recent call last)",
      "Cell \u001b[0;32mIn[140], line 1\u001b[0m\n\u001b[0;32m----> 1\u001b[0m average_branching_factor2(wiki_words[\u001b[38;5;241m0\u001b[39m:\u001b[38;5;241m100\u001b[39m])\n",
      "Cell \u001b[0;32mIn[139], line 8\u001b[0m, in \u001b[0;36maverage_branching_factor2\u001b[0;34m(words)\u001b[0m\n\u001b[1;32m      6\u001b[0m \u001b[38;5;28;01mif\u001b[39;00m words[i] \u001b[38;5;129;01min\u001b[39;00m d:\n\u001b[1;32m      7\u001b[0m     old_key \u001b[38;5;241m=\u001b[39m d[words[i]]\n\u001b[0;32m----> 8\u001b[0m     \u001b[38;5;28;01mif\u001b[39;00m words[i\u001b[38;5;241m+\u001b[39m\u001b[38;5;241m1\u001b[39m] \u001b[38;5;129;01mnot\u001b[39;00m \u001b[38;5;129;01min\u001b[39;00m old_key:\n\u001b[1;32m      9\u001b[0m         d[words[i]] \u001b[38;5;241m=\u001b[39m old_key\u001b[38;5;241m.\u001b[39mappend(words[i\u001b[38;5;241m+\u001b[39m\u001b[38;5;241m1\u001b[39m])\n\u001b[1;32m     10\u001b[0m \u001b[38;5;28;01melse\u001b[39;00m:\n",
      "\u001b[0;31mTypeError\u001b[0m: argument of type 'NoneType' is not iterable"
     ]
    }
   ],
   "source": [
    "average_branching_factor2(wiki_words[0:100])"
   ]
  },
  {
   "cell_type": "code",
   "execution_count": 138,
   "id": "e18de373",
   "metadata": {},
   "outputs": [],
   "source": [
    "test.add(\"test2\")\n",
    "t2 = list(test).append(\"test3\")"
   ]
  }
 ],
 "metadata": {
  "kernelspec": {
   "display_name": "Python 3 (ipykernel)",
   "language": "python",
   "name": "python3"
  },
  "language_info": {
   "codemirror_mode": {
    "name": "ipython",
    "version": 3
   },
   "file_extension": ".py",
   "mimetype": "text/x-python",
   "name": "python",
   "nbconvert_exporter": "python",
   "pygments_lexer": "ipython3",
   "version": "3.11.5"
  }
 },
 "nbformat": 4,
 "nbformat_minor": 5
}
